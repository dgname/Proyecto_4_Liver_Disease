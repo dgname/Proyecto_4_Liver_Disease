{
 "cells": [
  {
   "cell_type": "markdown",
   "metadata": {},
   "source": [
    "##### Random Forest, relatively simple to understand and interpret, and in this case adapts well since it's a small dataset.\n"
   ]
  },
  {
   "cell_type": "code",
   "execution_count": 1,
   "metadata": {},
   "outputs": [],
   "source": [
    "import tensorflow as tf\n",
    "import sklearn as skl\n",
    "import keras_tuner as kt\n",
    "import pandas as pd\n",
    "import time\n",
    "import matplotlib.pyplot as plt\n",
    "import seaborn as sns\n",
    "\n",
    "from tensorflow import keras\n",
    "from sklearn.model_selection import train_test_split\n",
    "from sqlalchemy import create_engine\n",
    "from config import CONNSTRING\n",
    "from sklearn.ensemble import RandomForestClassifier\n",
    "from sklearn.metrics import accuracy_score, confusion_matrix, classification_report"
   ]
  },
  {
   "cell_type": "code",
   "execution_count": 2,
   "metadata": {},
   "outputs": [
    {
     "data": {
      "text/html": [
       "<div>\n",
       "<style scoped>\n",
       "    .dataframe tbody tr th:only-of-type {\n",
       "        vertical-align: middle;\n",
       "    }\n",
       "\n",
       "    .dataframe tbody tr th {\n",
       "        vertical-align: top;\n",
       "    }\n",
       "\n",
       "    .dataframe thead th {\n",
       "        text-align: right;\n",
       "    }\n",
       "</style>\n",
       "<table border=\"1\" class=\"dataframe\">\n",
       "  <thead>\n",
       "    <tr style=\"text-align: right;\">\n",
       "      <th></th>\n",
       "      <th>age</th>\n",
       "      <th>gender</th>\n",
       "      <th>bmi</th>\n",
       "      <th>alcoholconsumption</th>\n",
       "      <th>smoking</th>\n",
       "      <th>geneticrisk</th>\n",
       "      <th>physicalactivity</th>\n",
       "      <th>diabetes</th>\n",
       "      <th>hypertension</th>\n",
       "      <th>liverfunctiontest</th>\n",
       "      <th>diagnosis</th>\n",
       "    </tr>\n",
       "  </thead>\n",
       "  <tbody>\n",
       "    <tr>\n",
       "      <th>0</th>\n",
       "      <td>58</td>\n",
       "      <td>0</td>\n",
       "      <td>35.857584</td>\n",
       "      <td>17.272828</td>\n",
       "      <td>0</td>\n",
       "      <td>1</td>\n",
       "      <td>0.658940</td>\n",
       "      <td>0</td>\n",
       "      <td>0</td>\n",
       "      <td>42.734240</td>\n",
       "      <td>1</td>\n",
       "    </tr>\n",
       "    <tr>\n",
       "      <th>1</th>\n",
       "      <td>71</td>\n",
       "      <td>1</td>\n",
       "      <td>30.732470</td>\n",
       "      <td>2.201266</td>\n",
       "      <td>0</td>\n",
       "      <td>1</td>\n",
       "      <td>1.670557</td>\n",
       "      <td>1</td>\n",
       "      <td>0</td>\n",
       "      <td>67.309822</td>\n",
       "      <td>1</td>\n",
       "    </tr>\n",
       "    <tr>\n",
       "      <th>2</th>\n",
       "      <td>48</td>\n",
       "      <td>0</td>\n",
       "      <td>19.971407</td>\n",
       "      <td>18.500944</td>\n",
       "      <td>0</td>\n",
       "      <td>0</td>\n",
       "      <td>9.928308</td>\n",
       "      <td>0</td>\n",
       "      <td>0</td>\n",
       "      <td>63.738956</td>\n",
       "      <td>0</td>\n",
       "    </tr>\n",
       "    <tr>\n",
       "      <th>3</th>\n",
       "      <td>34</td>\n",
       "      <td>1</td>\n",
       "      <td>16.615417</td>\n",
       "      <td>12.632870</td>\n",
       "      <td>0</td>\n",
       "      <td>0</td>\n",
       "      <td>5.630129</td>\n",
       "      <td>0</td>\n",
       "      <td>0</td>\n",
       "      <td>64.555873</td>\n",
       "      <td>1</td>\n",
       "    </tr>\n",
       "    <tr>\n",
       "      <th>4</th>\n",
       "      <td>62</td>\n",
       "      <td>1</td>\n",
       "      <td>16.065830</td>\n",
       "      <td>1.087815</td>\n",
       "      <td>0</td>\n",
       "      <td>1</td>\n",
       "      <td>3.566218</td>\n",
       "      <td>1</td>\n",
       "      <td>0</td>\n",
       "      <td>77.868689</td>\n",
       "      <td>1</td>\n",
       "    </tr>\n",
       "  </tbody>\n",
       "</table>\n",
       "</div>"
      ],
      "text/plain": [
       "   age  gender        bmi  alcoholconsumption  smoking  geneticrisk  \\\n",
       "0   58       0  35.857584           17.272828        0            1   \n",
       "1   71       1  30.732470            2.201266        0            1   \n",
       "2   48       0  19.971407           18.500944        0            0   \n",
       "3   34       1  16.615417           12.632870        0            0   \n",
       "4   62       1  16.065830            1.087815        0            1   \n",
       "\n",
       "   physicalactivity  diabetes  hypertension  liverfunctiontest  diagnosis  \n",
       "0          0.658940         0             0          42.734240          1  \n",
       "1          1.670557         1             0          67.309822          1  \n",
       "2          9.928308         0             0          63.738956          0  \n",
       "3          5.630129         0             0          64.555873          1  \n",
       "4          3.566218         1             0          77.868689          1  "
      ]
     },
     "execution_count": 2,
     "metadata": {},
     "output_type": "execute_result"
    }
   ],
   "source": [
    "# Create a database engine\n",
    "engine = create_engine(CONNSTRING)\n",
    "\n",
    "# Define your SQL query\n",
    "query = \"SELECT * FROM PatientData\"\n",
    "\n",
    "# Use pandas to read the data into a DataFrame\n",
    "liver_data_df = pd.read_sql(query, engine)\n",
    "liver_data_df.head()"
   ]
  },
  {
   "cell_type": "code",
   "execution_count": 3,
   "metadata": {},
   "outputs": [],
   "source": [
    "# Split our data into our features and target arrays\n",
    "X = liver_data_df.copy()\n",
    "X.drop('diagnosis', axis=1, inplace=True)\n",
    "y = liver_data_df['diagnosis']"
   ]
  },
  {
   "cell_type": "code",
   "execution_count": 4,
   "metadata": {},
   "outputs": [],
   "source": [
    "# Split the preprocessed data into a training and testing dataset\n",
    "X_train, X_test, y_train, y_test = train_test_split(X, y, random_state=42)"
   ]
  },
  {
   "cell_type": "code",
   "execution_count": 5,
   "metadata": {},
   "outputs": [],
   "source": [
    "# Create a StandardScaler instances\n",
    "X_scaler = skl.preprocessing.StandardScaler()\n",
    "\n",
    "# Fit the StandardScaler\n",
    "X_scaler.fit(X_train)\n",
    "\n",
    "# Scale the data\n",
    "X_train_scaled = X_scaler.transform(X_train)\n",
    "X_test_scaled = X_scaler.transform(X_test)"
   ]
  },
  {
   "cell_type": "code",
   "execution_count": 6,
   "metadata": {},
   "outputs": [],
   "source": [
    "# Create a random forest classifier\n",
    "rf_model = RandomForestClassifier(n_estimators=1550, max_features='sqrt', random_state=78)"
   ]
  },
  {
   "cell_type": "code",
   "execution_count": 7,
   "metadata": {},
   "outputs": [],
   "source": [
    "# Fitting the model\n",
    "rf_model = rf_model.fit(X_train_scaled, y_train)"
   ]
  },
  {
   "cell_type": "code",
   "execution_count": 8,
   "metadata": {},
   "outputs": [],
   "source": [
    "# Making predictions using the testing data\n",
    "predictions = rf_model.predict(X_test_scaled)"
   ]
  },
  {
   "cell_type": "code",
   "execution_count": 9,
   "metadata": {},
   "outputs": [],
   "source": [
    "# Calculating the confusion matrix\n",
    "cm = confusion_matrix(y_test, predictions)\n",
    "cm_df = pd.DataFrame(cm, index=[\"Actual 0\", \"Actual 1\"], columns=[\"Predicted 0\", \"Predicted 1\"])"
   ]
  },
  {
   "cell_type": "code",
   "execution_count": 10,
   "metadata": {},
   "outputs": [
    {
     "data": {
      "text/plain": [
       "0.8917647058823529"
      ]
     },
     "execution_count": 10,
     "metadata": {},
     "output_type": "execute_result"
    }
   ],
   "source": [
    "# Calculating the accuracy score\n",
    "acc_score = accuracy_score(y_test, predictions)\n",
    "acc_score"
   ]
  },
  {
   "cell_type": "code",
   "execution_count": 11,
   "metadata": {},
   "outputs": [
    {
     "data": {
      "image/png": "[encoded data removed]",
      "text/plain": [
       "<Figure size 1000x700 with 2 Axes>"
      ]
     },
     "metadata": {},
     "output_type": "display_data"
    }
   ],
   "source": [
    "# Confusion Matrix visualization\n",
    "plt.figure(figsize=(10, 7))\n",
    "sns.heatmap(cm, annot=True, fmt='d', cmap='Blues')\n",
    "plt.xlabel('Predicted')\n",
    "plt.ylabel('Actual')\n",
    "plt.title('Confusion Matrix')\n",
    "plt.show()"
   ]
  }
 ],
 "metadata": {
  "kernelspec": {
   "display_name": "dev",
   "language": "python",
   "name": "python3"
  },
  "language_info": {
   "codemirror_mode": {
    "name": "ipython",
    "version": 3
   },
   "file_extension": ".py",
   "mimetype": "text/x-python",
   "name": "python",
   "nbconvert_exporter": "python",
   "pygments_lexer": "ipython3",
   "version": "3.12.1"
  }
 },
 "nbformat": 4,
 "nbformat_minor": 2
}
