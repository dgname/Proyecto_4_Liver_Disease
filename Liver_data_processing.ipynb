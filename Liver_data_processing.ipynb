{
 "cells": [
  {
   "cell_type": "markdown",
   "metadata": {},
   "source": [
    "### Data Exploration"
   ]
  },
  {
   "cell_type": "code",
   "execution_count": null,
   "metadata": {},
   "outputs": [],
   "source": [
    "import pandas as pd\n",
    "import matplotlib.pyplot as plt\n",
    "\n",
    "from sqlalchemy import create_engine # Engine required to read the SQL from PGAdmin4\n",
    "from config import CONNSTRING"
   ]
  },
  {
   "cell_type": "code",
   "execution_count": null,
   "metadata": {},
   "outputs": [],
   "source": [
    "# Create a database engine\n",
    "engine = create_engine(CONNSTRING)\n",
    "\n",
    "# Define your SQL query\n",
    "query = \"SELECT * FROM PatientData\"\n",
    "\n",
    "# Use pandas to read the data into a DataFrame\n",
    "liver_data_df = pd.read_sql(query, engine)\n",
    "liver_data_df.head()"
   ]
  },
  {
   "cell_type": "markdown",
   "metadata": {},
   "source": [
    "## Exploratory Data Analysis"
   ]
  },
  {
   "cell_type": "code",
   "execution_count": null,
   "metadata": {},
   "outputs": [],
   "source": [
    "liver_data_df.info()"
   ]
  },
  {
   "cell_type": "code",
   "execution_count": null,
   "metadata": {},
   "outputs": [],
   "source": [
    "# Plot histograms for each feature\n",
    "liver_data_df.hist(figsize=(12, 12), bins=20)\n",
    "plt.tight_layout()\n",
    "plt.show()"
   ]
  },
  {
   "cell_type": "code",
   "execution_count": null,
   "metadata": {},
   "outputs": [],
   "source": [
    "# Plot boxplots for each feature\n",
    "liver_data_df.plot(kind='box', subplots=True, layout=(4, 4), figsize=(12, 12), sharex=False, sharey=False)\n",
    "plt.tight_layout()\n",
    "plt.show()"
   ]
  },
  {
   "cell_type": "code",
   "execution_count": null,
   "metadata": {},
   "outputs": [],
   "source": [
    "# Calculate the correlation matrix\n",
    "correlation_matrix = liver_data_df.corr()\n",
    "\n",
    "# Display the correlation matrix\n",
    "print(correlation_matrix)\n",
    "\n",
    "# Plot the correlation matrix\n",
    "plt.figure(figsize=(12, 8))\n",
    "sns.heatmap(correlation_matrix, annot=True, cmap='coolwarm')\n",
    "plt.title('Correlation Matrix')\n",
    "plt.show()"
   ]
  },
  {
   "cell_type": "markdown",
   "metadata": {},
   "source": [
    "## Generally, the interpretation of correlation coefficients is as follows:\n",
    "\n",
    "### 0.0 to 0.3 (or 0.0 to -0.3): Weak correlation\n",
    "### 0.3 to 0.7 (or -0.3 to -0.7): Moderate correlation\n",
    "### 0.7 to 1.0 (or -0.7 to -1.0): Strong correlation"
   ]
  },
  {
   "cell_type": "code",
   "execution_count": null,
   "metadata": {},
   "outputs": [],
   "source": [
    "# Plot boxplots for each feature against the target variable\n",
    "for column in liver_data_df.columns:\n",
    "    if column != 'diagnosis':  # Replace 'Target' with your binary classification target column name\n",
    "        plt.figure(figsize=(8, 4))\n",
    "        sns.boxplot(x='diagnosis', y=column, data=liver_data_df)  # Replace 'Target' with your binary classification target column name\n",
    "        plt.title(f'Boxplot of {column} by diagnosis')\n",
    "        plt.show()"
   ]
  },
  {
   "cell_type": "markdown",
   "metadata": {},
   "source": [
    "# Now let's find a suitable Machine Learning model to try to predict Liver Disease based on the available variables\n",
    "##### (Run each model separately on the respective jupyter notebooks)"
   ]
  }
 ],
 "metadata": {
  "kernelspec": {
   "display_name": "dev",
   "language": "python",
   "name": "python3"
  },
  "language_info": {
   "codemirror_mode": {
    "name": "ipython",
    "version": 3
   },
   "file_extension": ".py",
   "mimetype": "text/x-python",
   "name": "python",
   "nbconvert_exporter": "python",
   "pygments_lexer": "ipython3",
   "version": "3.12.1"
  }
 },
 "nbformat": 4,
 "nbformat_minor": 2
}
